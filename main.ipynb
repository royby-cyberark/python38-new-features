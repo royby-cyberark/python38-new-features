{
 "metadata": {
  "language_info": {
   "codemirror_mode": {
    "name": "ipython",
    "version": 3
   },
   "file_extension": ".py",
   "mimetype": "text/x-python",
   "name": "python",
   "nbconvert_exporter": "python",
   "pygments_lexer": "ipython3",
   "version": "3.8.7"
  },
  "orig_nbformat": 2,
  "kernelspec": {
   "name": "python387jvsc74a57bd0c17beace29350b21517305f2670955bb5c6ae7cbddb46e16d98b380483e7b433",
   "display_name": "Python 3.8.7 64-bit ('3.8.7')"
  },
  "metadata": {
   "interpreter": {
    "hash": "c17beace29350b21517305f2670955bb5c6ae7cbddb46e16d98b380483e7b433"
   }
  }
 },
 "nbformat": 4,
 "nbformat_minor": 2,
 "cells": [
  {
   "source": [
    "# Python 3.8 New Features"
   ],
   "cell_type": "markdown",
   "metadata": {}
  },
  {
   "source": [
    "## Best feature EVER! f-strings support = for self-documenting expressions"
   ],
   "cell_type": "markdown",
   "metadata": {}
  },
  {
   "cell_type": "code",
   "execution_count": 2,
   "metadata": {},
   "outputs": [
    {
     "output_type": "stream",
     "name": "stdout",
     "text": [
      "user='moshe', admin='dudu'\n"
     ]
    }
   ],
   "source": [
    "user = 'moshe'\n",
    "admin = 'dudu'\n",
    "print(f'{user=}, {admin=}')"
   ]
  },
  {
   "source": [
    "## Wulrus Operator :=\n",
    "There is new syntax := that assigns values to variables as part of a larger expression"
   ],
   "cell_type": "markdown",
   "metadata": {}
  },
  {
   "cell_type": "code",
   "execution_count": 8,
   "metadata": {},
   "outputs": [
    {
     "output_type": "stream",
     "name": "stdout",
     "text": [
      "String is too long! len: len(a)=10\n"
     ]
    }
   ],
   "source": [
    "a = '1234567890'\n",
    "if len(a) > 5:\n",
    "    print(f'String is too long! len: {len(a)=}')"
   ]
  },
  {
   "cell_type": "code",
   "execution_count": 7,
   "metadata": {},
   "outputs": [
    {
     "output_type": "stream",
     "name": "stdout",
     "text": [
      "String is too long! len: n=10\n"
     ]
    }
   ],
   "source": [
    "a = '1234567890'\n",
    "if (n:=len(a)) > 5:\n",
    "    print(f'String is too long! len: {n=}')"
   ]
  },
  {
   "cell_type": "code",
   "execution_count": 3,
   "metadata": {},
   "outputs": [
    {
     "output_type": "stream",
     "name": "stdout",
     "text": [
      "abcdefghij\n\nklmnopqrst\n\nuvwxyz\n\n"
     ]
    }
   ],
   "source": [
    "with open('data.txt', 'r') as f:\n",
    "    # Loop over fixed length blocks\n",
    "    while (block := f.read(10)) != '':\n",
    "        print(f'{block}\\n')"
   ]
  },
  {
   "cell_type": "code",
   "execution_count": 12,
   "metadata": {},
   "outputs": [
    {
     "output_type": "stream",
     "name": "stdout",
     "text": [
      "Matching!\n"
     ]
    }
   ],
   "source": [
    "import re\n",
    "pattern = r'ab+'\n",
    "text = 'bbbaabbba'\n",
    "\n",
    "if (match := re.search(pattern, text)) is not None:\n",
    "    # process the match object\n",
    "    print('Matching!')"
   ]
  },
  {
   "source": [
    "### Using in list comprehension when you need the value in the expression"
   ],
   "cell_type": "markdown",
   "metadata": {}
  },
  {
   "cell_type": "code",
   "execution_count": 14,
   "metadata": {},
   "outputs": [
    {
     "output_type": "stream",
     "name": "stdout",
     "text": [
      "[27, 64, 125]\n"
     ]
    }
   ],
   "source": [
    "f = lambda x: x**3\n",
    "\n",
    "data = [1, 2, 3, 4, 5]\n",
    "filtered_data = [y for x in data if (y := f(x)) > 25]\n",
    "\n",
    "print(filtered_data)"
   ]
  },
  {
   "source": [
    "## Positional-only parameters\n",
    "\n",
    "There is a new function parameter syntax / to indicate that some function parameters must be specified positionally and cannot be used as keyword arguments. \n"
   ],
   "cell_type": "markdown",
   "metadata": {}
  },
  {
   "cell_type": "code",
   "execution_count": 16,
   "metadata": {},
   "outputs": [
    {
     "output_type": "stream",
     "name": "stdout",
     "text": [
      "10 20 30 40 50 60\n"
     ]
    }
   ],
   "source": [
    "def f(a, b, /, c, d, *, e, f):\n",
    "    print(a, b, c, d, e, f)\n",
    "\n",
    "f(10, 20, 30, d=40, e=50, f=60)"
   ]
  },
  {
   "cell_type": "code",
   "execution_count": 18,
   "metadata": {},
   "outputs": [
    {
     "output_type": "error",
     "ename": "TypeError",
     "evalue": "f() got some positional-only arguments passed as keyword arguments: 'b'",
     "traceback": [
      "\u001b[0;31m---------------------------------------------------------------------------\u001b[0m",
      "\u001b[0;31mTypeError\u001b[0m                                 Traceback (most recent call last)",
      "\u001b[0;32m<ipython-input-18-988f61936ad1>\u001b[0m in \u001b[0;36m<module>\u001b[0;34m\u001b[0m\n\u001b[0;32m----> 1\u001b[0;31m \u001b[0mf\u001b[0m\u001b[0;34m(\u001b[0m\u001b[0;36m10\u001b[0m\u001b[0;34m,\u001b[0m \u001b[0mb\u001b[0m\u001b[0;34m=\u001b[0m\u001b[0;36m20\u001b[0m\u001b[0;34m,\u001b[0m \u001b[0mc\u001b[0m\u001b[0;34m=\u001b[0m\u001b[0;36m30\u001b[0m\u001b[0;34m,\u001b[0m \u001b[0md\u001b[0m\u001b[0;34m=\u001b[0m\u001b[0;36m40\u001b[0m\u001b[0;34m,\u001b[0m \u001b[0me\u001b[0m\u001b[0;34m=\u001b[0m\u001b[0;36m50\u001b[0m\u001b[0;34m,\u001b[0m \u001b[0mf\u001b[0m\u001b[0;34m=\u001b[0m\u001b[0;36m60\u001b[0m\u001b[0;34m)\u001b[0m   \u001b[0;31m# b cannot be a keyword argument\u001b[0m\u001b[0;34m\u001b[0m\u001b[0;34m\u001b[0m\u001b[0m\n\u001b[0m\u001b[1;32m      2\u001b[0m \u001b[0mf\u001b[0m\u001b[0;34m(\u001b[0m\u001b[0;36m10\u001b[0m\u001b[0;34m,\u001b[0m \u001b[0;36m20\u001b[0m\u001b[0;34m,\u001b[0m \u001b[0;36m30\u001b[0m\u001b[0;34m,\u001b[0m \u001b[0;36m40\u001b[0m\u001b[0;34m,\u001b[0m \u001b[0;36m50\u001b[0m\u001b[0;34m,\u001b[0m \u001b[0mf\u001b[0m\u001b[0;34m=\u001b[0m\u001b[0;36m60\u001b[0m\u001b[0;34m)\u001b[0m           \u001b[0;31m# e must be a keyword argument\u001b[0m\u001b[0;34m\u001b[0m\u001b[0;34m\u001b[0m\u001b[0m\n",
      "\u001b[0;31mTypeError\u001b[0m: f() got some positional-only arguments passed as keyword arguments: 'b'"
     ]
    }
   ],
   "source": [
    "f(10, b=20, c=30, d=40, e=50, f=60)   # b cannot be a keyword argument"
   ]
  },
  {
   "cell_type": "code",
   "execution_count": 19,
   "metadata": {},
   "outputs": [
    {
     "output_type": "error",
     "ename": "TypeError",
     "evalue": "f() takes 4 positional arguments but 5 positional arguments (and 1 keyword-only argument) were given",
     "traceback": [
      "\u001b[0;31m---------------------------------------------------------------------------\u001b[0m",
      "\u001b[0;31mTypeError\u001b[0m                                 Traceback (most recent call last)",
      "\u001b[0;32m<ipython-input-19-cc28fae0647c>\u001b[0m in \u001b[0;36m<module>\u001b[0;34m\u001b[0m\n\u001b[0;32m----> 1\u001b[0;31m \u001b[0mf\u001b[0m\u001b[0;34m(\u001b[0m\u001b[0;36m10\u001b[0m\u001b[0;34m,\u001b[0m \u001b[0;36m20\u001b[0m\u001b[0;34m,\u001b[0m \u001b[0;36m30\u001b[0m\u001b[0;34m,\u001b[0m \u001b[0;36m40\u001b[0m\u001b[0;34m,\u001b[0m \u001b[0;36m50\u001b[0m\u001b[0;34m,\u001b[0m \u001b[0mf\u001b[0m\u001b[0;34m=\u001b[0m\u001b[0;36m60\u001b[0m\u001b[0;34m)\u001b[0m           \u001b[0;31m# e must be a keyword argument\u001b[0m\u001b[0;34m\u001b[0m\u001b[0;34m\u001b[0m\u001b[0m\n\u001b[0m",
      "\u001b[0;31mTypeError\u001b[0m: f() takes 4 positional arguments but 5 positional arguments (and 1 keyword-only argument) were given"
     ]
    }
   ],
   "source": [
    "f(10, 20, 30, 40, 50, f=60)           # e must be a keyword argument"
   ]
  },
  {
   "source": [
    "Used for:\n",
    "* allows pure Python functions to fully emulate behaviors of existing C coded functions. For example, the built-in divmod() which does not take keyword arguments\n",
    "* preclude keyword arguments when the parameter name is not helpful, for example: `len(obj='hello')`\n",
    "* allows the parameter name to be changed in the future without risk of breaking client code\n",
    "   * This will allow future change of dist: `def quantiles(dist, /, *, n=4, method='exclusive')`\n",
    "   * This will make sure all params are available for kwargs: `def f(a, b, /, **kwargs)`\n"
   ],
   "cell_type": "markdown",
   "metadata": {}
  },
  {
   "source": [
    "## New importlib.metadata module\n",
    "provides (provisional) support for reading metadata from third-party packages. For example, it can extract an installed package’s version number, list of entry points, and more"
   ],
   "cell_type": "markdown",
   "metadata": {}
  },
  {
   "cell_type": "code",
   "execution_count": 23,
   "metadata": {},
   "outputs": [
    {
     "output_type": "stream",
     "name": "stdout",
     "text": [
      "2.25.1\n"
     ]
    }
   ],
   "source": [
    "from importlib.metadata import version, requires, files\n",
    "print(version('requests'))"
   ]
  },
  {
   "cell_type": "code",
   "execution_count": 24,
   "metadata": {},
   "outputs": [
    {
     "output_type": "stream",
     "name": "stdout",
     "text": [
      "['chardet (<5,>=3.0.2)', 'idna (<3,>=2.5)', 'urllib3 (<1.27,>=1.21.1)', 'certifi (>=2017.4.17)', \"pyOpenSSL (>=0.14) ; extra == 'security'\", \"cryptography (>=1.3.4) ; extra == 'security'\", \"PySocks (!=1.5.7,>=1.5.6) ; extra == 'socks'\", 'win-inet-pton ; (sys_platform == \"win32\" and python_version == \"2.7\") and extra == \\'socks\\'']\n"
     ]
    }
   ],
   "source": [
    "print(list(requires('requests')))\n"
   ]
  },
  {
   "cell_type": "code",
   "execution_count": 25,
   "metadata": {},
   "outputs": [
    {
     "output_type": "stream",
     "name": "stdout",
     "text": [
      "[PackagePath('requests-2.25.1.dist-info/INSTALLER'), PackagePath('requests-2.25.1.dist-info/LICENSE'), PackagePath('requests-2.25.1.dist-info/METADATA'), PackagePath('requests-2.25.1.dist-info/RECORD'), PackagePath('requests-2.25.1.dist-info/WHEEL')]\n"
     ]
    }
   ],
   "source": [
    "print(list(files('requests'))[:5])"
   ]
  },
  {
   "source": [
    "# Shorts"
   ],
   "cell_type": "markdown",
   "metadata": {}
  },
  {
   "source": [
    "## The cProfile.Profile class can now be used as a context manager."
   ],
   "cell_type": "markdown",
   "metadata": {}
  },
  {
   "source": [
    "## Dict and dictviews are now iterable in reversed insertion order using reversed()."
   ],
   "cell_type": "markdown",
   "metadata": {}
  },
  {
   "source": [
    "## Pickle protocol 5 with out-of-band data buffers\n",
    "When pickle is used to transfer large data between Python processes in order to take advantage of multi-core or multi-machine processing, it is important to optimize the transfer by reducing memory copies, and possibly by applying custom techniques such as data-dependent compression.\n",
    "\n",
    "The pickle protocol 5 introduces support for out-of-band buffers where PEP 3118-compatible data can be transmitted separately from the main pickle stream, at the discretion of the communication layer."
   ],
   "cell_type": "markdown",
   "metadata": {}
  },
  {
   "source": [
    "## Parallel filesystem cache for compiled bytecode files\n",
    "The new PYTHONPYCACHEPREFIX setting (also available as -X pycache_prefix) configures the implicit bytecode cache to use a separate parallel filesystem tree, rather than the default __pycache__ subdirectories within each source directory."
   ],
   "cell_type": "markdown",
   "metadata": {}
  },
  {
   "source": [
    "## Debug build uses the same ABI as release build\n",
    "Python now uses the same ABI whether it’s built in release or debug mode. On Unix, when Python is built in debug mode, it is now possible to load C extensions built in release mode and C extensions built using the stable ABI."
   ],
   "cell_type": "markdown",
   "metadata": {}
  },
  {
   "source": [
    "## Python Initialization Configuration\n",
    "The PEP 587 adds a new C API to configure the Python Initialization providing finer control on the whole configuration and better error reporting."
   ],
   "cell_type": "markdown",
   "metadata": {}
  },
  {
   "source": [
    "## Many other smaller or low level improvements and changes, more details in the docs:\n",
    "https://docs.python.org/3/whatsnew/3.8.html"
   ],
   "cell_type": "markdown",
   "metadata": {}
  }
 ]
}